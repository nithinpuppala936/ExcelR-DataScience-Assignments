{
  "nbformat": 4,
  "nbformat_minor": 0,
  "metadata": {
    "colab": {
      "provenance": []
    },
    "kernelspec": {
      "name": "python3",
      "display_name": "Python 3"
    },
    "language_info": {
      "name": "python"
    }
  },
  "cells": [
    {
      "cell_type": "code",
      "execution_count": 26,
      "metadata": {
        "colab": {
          "base_uri": "https://localhost:8080/"
        },
        "id": "9302yvl2-nv_",
        "outputId": "a79687e5-cf49-40d5-a659-575d52fc9caa"
      },
      "outputs": [
        {
          "output_type": "stream",
          "name": "stdout",
          "text": [
            "Enter the value:5\n",
            "5 is a prime number.\n"
          ]
        }
      ],
      "source": [
        "# takes input from user\n",
        "n=int(input(\"Enter the value:\"))\n",
        "# now prime numbers starts from 1 here we have to give condition that if number is less than 1 it prints false\n",
        "if n<1:\n",
        "  print(\"enter positive integer\")\n",
        "# prime number condition starts here\n",
        "else:\n",
        "  is_prime = True\n",
        "  for i in range(2, int(n ** 0.5) + 1):\n",
        "      if n % i == 0:\n",
        "          is_prime = False\n",
        "          break\n",
        "\n",
        "  if is_prime:\n",
        "        print(n,\"is a prime number.\")\n",
        "  else:\n",
        "        print(n,\"is not a prime number.\")"
      ]
    },
    {
      "cell_type": "code",
      "source": [
        "# we have to import numpy library for generating random integers\n",
        "import numpy as np\n",
        "# creating two random integers and storing in m,n variables respectively\n",
        "m=np.random.randint(1,20)\n",
        "n=np.random.randint(1,20)\n",
        "# printing the random generated numbers\n",
        "print(m)\n",
        "print(n)\n",
        "# take input from user\n",
        "user=int(input(\"Enter multlipication of above numbers:\"))\n",
        "# here we need to give condition whether it is correct or not\n",
        "if user==m*n:\n",
        "  print(\"Correct\")\n",
        "else:\n",
        "  print(\"Incorrect\")"
      ],
      "metadata": {
        "colab": {
          "base_uri": "https://localhost:8080/"
        },
        "id": "tqfQYR_EBDUk",
        "outputId": "e2d4b29e-2f00-4360-a457-44cee2480243"
      },
      "execution_count": 27,
      "outputs": [
        {
          "output_type": "stream",
          "name": "stdout",
          "text": [
            "15\n",
            "5\n",
            "Enter multlipication of above numbers:75\n",
            "Correct\n"
          ]
        }
      ]
    },
    {
      "cell_type": "code",
      "source": [
        "# values ranging from 100 to 200 to orint squares of odd numbers\n",
        "for i in range(100,200):\n",
        "  if i%2!=0:\n",
        "    sq=i**2\n",
        "    print(sq)\n"
      ],
      "metadata": {
        "colab": {
          "base_uri": "https://localhost:8080/"
        },
        "id": "sK_rz1sCByMv",
        "outputId": "8dc33b7b-fe48-4921-c6cf-204b187dad27"
      },
      "execution_count": 22,
      "outputs": [
        {
          "output_type": "stream",
          "name": "stdout",
          "text": [
            "10201\n",
            "10609\n",
            "11025\n",
            "11449\n",
            "11881\n",
            "12321\n",
            "12769\n",
            "13225\n",
            "13689\n",
            "14161\n",
            "14641\n",
            "15129\n",
            "15625\n",
            "16129\n",
            "16641\n",
            "17161\n",
            "17689\n",
            "18225\n",
            "18769\n",
            "19321\n",
            "19881\n",
            "20449\n",
            "21025\n",
            "21609\n",
            "22201\n",
            "22801\n",
            "23409\n",
            "24025\n",
            "24649\n",
            "25281\n",
            "25921\n",
            "26569\n",
            "27225\n",
            "27889\n",
            "28561\n",
            "29241\n",
            "29929\n",
            "30625\n",
            "31329\n",
            "32041\n",
            "32761\n",
            "33489\n",
            "34225\n",
            "34969\n",
            "35721\n",
            "36481\n",
            "37249\n",
            "38025\n",
            "38809\n",
            "39601\n"
          ]
        }
      ]
    },
    {
      "cell_type": "code",
      "source": [
        "from collections import Counter\n",
        "# here we imported necessary libraries for counting words\n",
        "# first we have to create function called count_words\n",
        "def count_words(text):\n",
        "  words = text.split()\n",
        "  word_counts = Counter(words)\n",
        "  return word_counts\n",
        "# here we are giving random text\n",
        "input_text = \"This is a sample text.Python is a very Basic Language which is like our simple english language.\"\n",
        "word_counts = count_words(input_text)\n",
        "for word, count in word_counts.items():\n",
        "  print(f\"'{word}': {count}\")\n"
      ],
      "metadata": {
        "colab": {
          "base_uri": "https://localhost:8080/"
        },
        "id": "VLmaG1vtD89X",
        "outputId": "39d85f20-611b-4491-a2e0-cdf512aa5dcb"
      },
      "execution_count": 25,
      "outputs": [
        {
          "output_type": "stream",
          "name": "stdout",
          "text": [
            "'This': 1\n",
            "'is': 3\n",
            "'a': 2\n",
            "'sample': 1\n",
            "'text.Python': 1\n",
            "'very': 1\n",
            "'Basic': 1\n",
            "'Language': 1\n",
            "'which': 1\n",
            "'like': 1\n",
            "'our': 1\n",
            "'simple': 1\n",
            "'english': 1\n",
            "'language.': 1\n"
          ]
        }
      ]
    },
    {
      "cell_type": "code",
      "source": [
        "import re\n",
        "\n",
        "def is_palindrome(text):\n",
        "  # Remove spaces, punctuation, and convert to lowercase\n",
        "  cleaned_text = re.sub(r'[^a-zA-Z0-9]', '', text).lower()\n",
        "  return cleaned_text == cleaned_text[::-1]\n",
        "\n",
        "st=input(\"enter text or number:\")\n",
        "if is_palindrome(st):\n",
        "  print(\"palindrome\")\n",
        "else:\n",
        "  print(\"not palindrome\")"
      ],
      "metadata": {
        "colab": {
          "base_uri": "https://localhost:8080/"
        },
        "id": "b_uvzR5cE3GC",
        "outputId": "5ce7900d-8794-473f-e437-3a75538fda56"
      },
      "execution_count": 35,
      "outputs": [
        {
          "output_type": "stream",
          "name": "stdout",
          "text": [
            "enter text or number:352\n",
            "not palindrome\n"
          ]
        }
      ]
    }
  ]
}