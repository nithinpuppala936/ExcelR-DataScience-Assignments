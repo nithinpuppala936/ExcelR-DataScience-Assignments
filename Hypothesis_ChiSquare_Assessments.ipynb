{
 "cells": [
  {
   "cell_type": "markdown",
   "id": "c64a206f",
   "metadata": {},
   "source": [
    "# Hypothesis Testing and Chi-Square Test Assessments"
   ]
  },
  {
   "cell_type": "markdown",
   "id": "7f1082f3",
   "metadata": {},
   "source": [
    "## Part 1: Hypothesis Testing\n",
    "\n",
    "### Background:\n",
    "Bombay Hospitality Ltd. operates a franchise model. The weekly operating cost is given by:\n",
    "\n",
    "\\[ W = 1000 + 5X \\]\n",
    "\n",
    "Where `X` is the number of units produced. The observed sample mean is Rs. 3050 for 25 restaurants. We test whether the weekly cost has increased.\n",
    "\n",
    "- Mean of units (X): 600\n",
    "- Std Dev of X: 25\n",
    "- Sample size (n): 25\n",
    "- Sample mean cost (x̄): 3050"
   ]
  },
  {
   "cell_type": "markdown",
   "id": "6229d874",
   "metadata": {},
   "source": [
    "### Step 1: Hypotheses\n",
    "- **Null Hypothesis (H₀)**: µ = 4000 (no increase in cost)\n",
    "- **Alternative Hypothesis (H₁)**: µ > 4000 (cost has increased)"
   ]
  },
  {
   "cell_type": "markdown",
   "id": "b3f34a2c",
   "metadata": {},
   "source": [
    "### Step 2: Test Statistic Calculation\n",
    "Using Z-test:\n",
    "\n",
    "\\[ Z = \\frac{\\bar{x} - \\mu}{\\sigma / \\sqrt{n}} \\]"
   ]
  },
  {
   "cell_type": "code",
   "execution_count": null,
   "id": "0b4c98b0",
   "metadata": {},
   "outputs": [],
   "source": [
    "import math\n",
    "from scipy.stats import norm\n",
    "\n",
    "# Given data\n",
    "sample_mean = 3050\n",
    "theoretical_mean = 1000 + 5 * 600  # 4000\n",
    "sigma = 5 * 25  # 125\n",
    "n = 25\n",
    "alpha = 0.05\n",
    "\n",
    "# Z-test calculation\n",
    "standard_error = sigma / math.sqrt(n)\n",
    "z_score = (sample_mean - theoretical_mean) / standard_error\n",
    "\n",
    "# Critical value for right-tailed test\n",
    "z_critical = norm.ppf(1 - alpha)\n",
    "\n",
    "# Output results\n",
    "print(f\"Z-Score: {z_score}\")\n",
    "print(f\"Critical Value (Z): {z_critical}\")\n",
    "if z_score > z_critical:\n",
    "    print(\"Reject the null hypothesis: Cost is significantly higher.\")\n",
    "else:\n",
    "    print(\"Fail to reject the null hypothesis: No significant increase in cost.\")"
   ]
  },
  {
   "cell_type": "markdown",
   "id": "d73e3cc6",
   "metadata": {},
   "source": [
    "### Step 3: Critical Value\n",
    "From Z-table for α = 0.05 (one-tailed), Z-critical ≈ 1.645"
   ]
  },
  {
   "cell_type": "markdown",
   "id": "456d5ea1",
   "metadata": {},
   "source": [
    "### Step 4: Decision\n",
    "Since Z = -38 < 1.645, we **fail to reject** the null hypothesis."
   ]
  },
  {
   "cell_type": "markdown",
   "id": "3142c025",
   "metadata": {},
   "source": [
    "### Step 5: Conclusion\n",
    "There is no evidence to support that the actual weekly operating cost is higher than the model suggests."
   ]
  },
  {
   "cell_type": "markdown",
   "id": "81e0ab1d",
   "metadata": {},
   "source": [
    "## Part 2: Chi-Square Test for Independence\n",
    "\n",
    "### Background:\n",
    "Mizzare Corporation wants to test if there's a significant association between the **type of smart device** and **customer satisfaction level**.\n",
    "\n",
    "Contingency Table:\n",
    "\n",
    "| Satisfaction       | Smart Thermostat | Smart Light | Total |\n",
    "|--------------------|------------------|-------------|--------|\n",
    "| Very Satisfied     | 50               | 70          | 120    |\n",
    "| Satisfied          | 80               | 100         | 180    |\n",
    "| Neutral            | 60               | 90          | 150    |\n",
    "| Unsatisfied        | 30               | 50          | 80     |\n",
    "| Very Unsatisfied   | 20               | 50          | 70     |\n",
    "| Total              | 240              | 360         | 600    |"
   ]
  },
  {
   "cell_type": "markdown",
   "id": "74df4d17",
   "metadata": {},
   "source": [
    "### Step 1: Hypotheses\n",
    "- **Null Hypothesis (H₀)**: Satisfaction is independent of device type\n",
    "- **Alternative Hypothesis (H₁)**: Satisfaction depends on device type"
   ]
  },
  {
   "cell_type": "markdown",
   "id": "79f8ffcc",
   "metadata": {},
   "source": [
    "### Step 2: Compute Chi-Square Statistic"
   ]
  },
  {
   "cell_type": "code",
   "execution_count": null,
   "id": "eb896cd5",
   "metadata": {},
   "outputs": [],
   "source": [
    "import numpy as np\n",
    "import pandas as pd\n",
    "from scipy.stats import chi2_contingency, chi2\n",
    "\n",
    "# Observed Frequency Table\n",
    "observed = np.array([\n",
    "    [50, 70],\n",
    "    [80, 100],\n",
    "    [60, 90],\n",
    "    [30, 50],\n",
    "    [20, 50]\n",
    "])\n",
    "\n",
    "# Chi-square test\n",
    "chi2_stat, p_value, dof, expected = chi2_contingency(observed)\n",
    "\n",
    "# Critical value\n",
    "alpha = 0.05\n",
    "critical_value = chi2.ppf(1 - alpha, df=dof)\n",
    "\n",
    "# Display results\n",
    "print(f\"Chi-Square Statistic: {chi2_stat:.4f}\")\n",
    "print(f\"Degrees of Freedom: {dof}\")\n",
    "print(f\"Critical Value at alpha=0.05: {critical_value:.4f}\")\n",
    "print(f\"P-Value: {p_value:.4f}\")\n",
    "print(\"\n",
    "Expected Frequencies:\")\n",
    "print(pd.DataFrame(expected, columns=[\"Smart Thermostat\", \"Smart Light\"]))\n",
    "\n",
    "if chi2_stat > critical_value:\n",
    "    print(\"\\nConclusion: Reject the null hypothesis. There is a significant association between device type and customer satisfaction.\")\n",
    "else:\n",
    "    print(\"\\nConclusion: Fail to reject the null hypothesis. There is no significant association between device type and customer satisfaction.\")"
   ]
  },
  {
   "cell_type": "markdown",
   "id": "628551ab",
   "metadata": {},
   "source": [
    "### Step 3: Critical Value\n",
    "Degrees of freedom = (5-1)(2-1) = 4. Critical value from χ² table at α = 0.05 is **9.488**"
   ]
  },
  {
   "cell_type": "markdown",
   "id": "5daed498",
   "metadata": {},
   "source": [
    "### Step 4: Conclusion\n",
    "If χ² statistic < 9.488, we **fail to reject** the null hypothesis. Hence, there is no significant association."
   ]
  }
 ],
 "metadata": {},
 "nbformat": 4,
 "nbformat_minor": 5
}