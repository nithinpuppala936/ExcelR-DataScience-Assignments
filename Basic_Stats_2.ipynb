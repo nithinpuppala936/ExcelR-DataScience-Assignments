{
  "nbformat": 4,
  "nbformat_minor": 0,
  "metadata": {
    "colab": {
      "provenance": []
    },
    "kernelspec": {
      "name": "python3",
      "display_name": "Python 3"
    },
    "language_info": {
      "name": "python"
    }
  },
  "cells": [
    {
      "cell_type": "code",
      "execution_count": 2,
      "metadata": {
        "id": "TuOniQ8eRKxC"
      },
      "outputs": [],
      "source": [
        "import pandas as pd\n",
        "import numpy as np\n",
        "from scipy import stats"
      ]
    },
    {
      "cell_type": "code",
      "source": [
        "# a\n",
        "data=np.array([1.13, 1.55, 1.43, 0.92, 1.25, 1.36, 1.32, 0.85, 1.07, 1.48, 1.20, 1.33, 1.18, 1.22, 1.29])\n",
        "# Calculate the mean of the data\n",
        "mean = data.mean()\n",
        "\n",
        "# Calculate the standard deviation of the data\n",
        "std_dev = data.std()\n",
        "\n",
        "# Calculate the standard error of the mean\n",
        "std_error = std_dev / np.sqrt(len(data))\n",
        "\n",
        "# Calculate the 99% confidence interval\n",
        "confidence_interval = stats.norm.interval(0.99, mean, std_error)\n",
        "\n",
        "print(\"99% Confidence Interval:\", confidence_interval)\n"
      ],
      "metadata": {
        "colab": {
          "base_uri": "https://localhost:8080/"
        },
        "id": "4iA34cmkRcmR",
        "outputId": "7a920a0d-3492-41f9-8e91-dc78ea6b9e61"
      },
      "execution_count": 4,
      "outputs": [
        {
          "output_type": "stream",
          "name": "stdout",
          "text": [
            "99% Confidence Interval: (np.float64(1.1145539391646546), np.float64(1.3627793941686785))\n"
          ]
        }
      ]
    },
    {
      "cell_type": "code",
      "source": [
        "# b\n",
        "\n",
        "# Assuming the data represents the entire population\n",
        "population_std_dev = data.std()  # Calculate population standard deviation\n",
        "\n",
        "# Calculate the standard error of the mean\n",
        "std_error = population_std_dev / np.sqrt(len(data))\n",
        "\n",
        "# Calculate the 99% confidence interval\n",
        "confidence_interval_population = stats.norm.interval(0.99, loc=mean, scale=std_error)\n",
        "\n",
        "print(\"99% Confidence Interval (Population Standard Deviation):\", confidence_interval_population)"
      ],
      "metadata": {
        "colab": {
          "base_uri": "https://localhost:8080/"
        },
        "id": "mTE3KOxYSt1L",
        "outputId": "4590d56e-9254-42fb-9757-7c3b853f8eca"
      },
      "execution_count": 5,
      "outputs": [
        {
          "output_type": "stream",
          "name": "stdout",
          "text": [
            "99% Confidence Interval (Population Standard Deviation): (np.float64(1.1145539391646546), np.float64(1.3627793941686785))\n"
          ]
        }
      ]
    }
  ]
}